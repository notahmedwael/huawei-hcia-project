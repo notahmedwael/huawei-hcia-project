{
  "nbformat": 4,
  "nbformat_minor": 0,
  "metadata": {
    "colab": {
      "provenance": []
    },
    "kernelspec": {
      "name": "python3",
      "display_name": "Python 3"
    },
    "language_info": {
      "name": "python"
    }
  },
  "cells": [
    {
      "cell_type": "markdown",
      "source": [
        "**This project is done by *Ahmed Wael from Group 5* & *Zeyad Mohamed from Group 4***\n",
        "\n",
        "**This project aims to train a simple model on the Iris Dataset & MNIST Dataset**\n",
        "\n",
        "**Iris Dataset**\n",
        "\n",
        "What we are going to achieve with KNN & SVM is to classify new flowers into one of three classes of Iris species which are Iris-setosa, Iris-versicolor & Iris-virginica.\n",
        "\n",
        "And we are displaying the accuracy of this model in predicting correctly accross both KNN & SVM\n",
        "\n",
        "**MNIST Dataset**\n",
        "\n",
        "What we are going to achieve with ANN & CNN is to comprare between different models with different layers and different hyperparamaters and see which one performs the best on MNIST Dataset."
      ],
      "metadata": {
        "id": "LK2z7OMPSyb3"
      }
    },
    {
      "cell_type": "code",
      "execution_count": 4,
      "metadata": {
        "colab": {
          "base_uri": "https://localhost:8080/",
          "height": 206
        },
        "id": "Hx-AFLmMyM9-",
        "outputId": "0d7ba9c5-2dfc-4b73-b89c-8380fdabdbdc"
      },
      "outputs": [
        {
          "output_type": "execute_result",
          "data": {
            "text/plain": [
              "   Id  SepalLengthCm  SepalWidthCm  PetalLengthCm  PetalWidthCm      Species\n",
              "0   1            5.1           3.5            1.4           0.2  Iris-setosa\n",
              "1   2            4.9           3.0            1.4           0.2  Iris-setosa\n",
              "2   3            4.7           3.2            1.3           0.2  Iris-setosa\n",
              "3   4            4.6           3.1            1.5           0.2  Iris-setosa\n",
              "4   5            5.0           3.6            1.4           0.2  Iris-setosa"
            ],
            "text/html": [
              "\n",
              "  <div id=\"df-d6965945-47c3-48e4-ae8b-c7353febf465\" class=\"colab-df-container\">\n",
              "    <div>\n",
              "<style scoped>\n",
              "    .dataframe tbody tr th:only-of-type {\n",
              "        vertical-align: middle;\n",
              "    }\n",
              "\n",
              "    .dataframe tbody tr th {\n",
              "        vertical-align: top;\n",
              "    }\n",
              "\n",
              "    .dataframe thead th {\n",
              "        text-align: right;\n",
              "    }\n",
              "</style>\n",
              "<table border=\"1\" class=\"dataframe\">\n",
              "  <thead>\n",
              "    <tr style=\"text-align: right;\">\n",
              "      <th></th>\n",
              "      <th>Id</th>\n",
              "      <th>SepalLengthCm</th>\n",
              "      <th>SepalWidthCm</th>\n",
              "      <th>PetalLengthCm</th>\n",
              "      <th>PetalWidthCm</th>\n",
              "      <th>Species</th>\n",
              "    </tr>\n",
              "  </thead>\n",
              "  <tbody>\n",
              "    <tr>\n",
              "      <th>0</th>\n",
              "      <td>1</td>\n",
              "      <td>5.1</td>\n",
              "      <td>3.5</td>\n",
              "      <td>1.4</td>\n",
              "      <td>0.2</td>\n",
              "      <td>Iris-setosa</td>\n",
              "    </tr>\n",
              "    <tr>\n",
              "      <th>1</th>\n",
              "      <td>2</td>\n",
              "      <td>4.9</td>\n",
              "      <td>3.0</td>\n",
              "      <td>1.4</td>\n",
              "      <td>0.2</td>\n",
              "      <td>Iris-setosa</td>\n",
              "    </tr>\n",
              "    <tr>\n",
              "      <th>2</th>\n",
              "      <td>3</td>\n",
              "      <td>4.7</td>\n",
              "      <td>3.2</td>\n",
              "      <td>1.3</td>\n",
              "      <td>0.2</td>\n",
              "      <td>Iris-setosa</td>\n",
              "    </tr>\n",
              "    <tr>\n",
              "      <th>3</th>\n",
              "      <td>4</td>\n",
              "      <td>4.6</td>\n",
              "      <td>3.1</td>\n",
              "      <td>1.5</td>\n",
              "      <td>0.2</td>\n",
              "      <td>Iris-setosa</td>\n",
              "    </tr>\n",
              "    <tr>\n",
              "      <th>4</th>\n",
              "      <td>5</td>\n",
              "      <td>5.0</td>\n",
              "      <td>3.6</td>\n",
              "      <td>1.4</td>\n",
              "      <td>0.2</td>\n",
              "      <td>Iris-setosa</td>\n",
              "    </tr>\n",
              "  </tbody>\n",
              "</table>\n",
              "</div>\n",
              "    <div class=\"colab-df-buttons\">\n",
              "\n",
              "  <div class=\"colab-df-container\">\n",
              "    <button class=\"colab-df-convert\" onclick=\"convertToInteractive('df-d6965945-47c3-48e4-ae8b-c7353febf465')\"\n",
              "            title=\"Convert this dataframe to an interactive table.\"\n",
              "            style=\"display:none;\">\n",
              "\n",
              "  <svg xmlns=\"http://www.w3.org/2000/svg\" height=\"24px\" viewBox=\"0 -960 960 960\">\n",
              "    <path d=\"M120-120v-720h720v720H120Zm60-500h600v-160H180v160Zm220 220h160v-160H400v160Zm0 220h160v-160H400v160ZM180-400h160v-160H180v160Zm440 0h160v-160H620v160ZM180-180h160v-160H180v160Zm440 0h160v-160H620v160Z\"/>\n",
              "  </svg>\n",
              "    </button>\n",
              "\n",
              "  <style>\n",
              "    .colab-df-container {\n",
              "      display:flex;\n",
              "      gap: 12px;\n",
              "    }\n",
              "\n",
              "    .colab-df-convert {\n",
              "      background-color: #E8F0FE;\n",
              "      border: none;\n",
              "      border-radius: 50%;\n",
              "      cursor: pointer;\n",
              "      display: none;\n",
              "      fill: #1967D2;\n",
              "      height: 32px;\n",
              "      padding: 0 0 0 0;\n",
              "      width: 32px;\n",
              "    }\n",
              "\n",
              "    .colab-df-convert:hover {\n",
              "      background-color: #E2EBFA;\n",
              "      box-shadow: 0px 1px 2px rgba(60, 64, 67, 0.3), 0px 1px 3px 1px rgba(60, 64, 67, 0.15);\n",
              "      fill: #174EA6;\n",
              "    }\n",
              "\n",
              "    .colab-df-buttons div {\n",
              "      margin-bottom: 4px;\n",
              "    }\n",
              "\n",
              "    [theme=dark] .colab-df-convert {\n",
              "      background-color: #3B4455;\n",
              "      fill: #D2E3FC;\n",
              "    }\n",
              "\n",
              "    [theme=dark] .colab-df-convert:hover {\n",
              "      background-color: #434B5C;\n",
              "      box-shadow: 0px 1px 3px 1px rgba(0, 0, 0, 0.15);\n",
              "      filter: drop-shadow(0px 1px 2px rgba(0, 0, 0, 0.3));\n",
              "      fill: #FFFFFF;\n",
              "    }\n",
              "  </style>\n",
              "\n",
              "    <script>\n",
              "      const buttonEl =\n",
              "        document.querySelector('#df-d6965945-47c3-48e4-ae8b-c7353febf465 button.colab-df-convert');\n",
              "      buttonEl.style.display =\n",
              "        google.colab.kernel.accessAllowed ? 'block' : 'none';\n",
              "\n",
              "      async function convertToInteractive(key) {\n",
              "        const element = document.querySelector('#df-d6965945-47c3-48e4-ae8b-c7353febf465');\n",
              "        const dataTable =\n",
              "          await google.colab.kernel.invokeFunction('convertToInteractive',\n",
              "                                                    [key], {});\n",
              "        if (!dataTable) return;\n",
              "\n",
              "        const docLinkHtml = 'Like what you see? Visit the ' +\n",
              "          '<a target=\"_blank\" href=https://colab.research.google.com/notebooks/data_table.ipynb>data table notebook</a>'\n",
              "          + ' to learn more about interactive tables.';\n",
              "        element.innerHTML = '';\n",
              "        dataTable['output_type'] = 'display_data';\n",
              "        await google.colab.output.renderOutput(dataTable, element);\n",
              "        const docLink = document.createElement('div');\n",
              "        docLink.innerHTML = docLinkHtml;\n",
              "        element.appendChild(docLink);\n",
              "      }\n",
              "    </script>\n",
              "  </div>\n",
              "\n",
              "\n",
              "<div id=\"df-e0e8520b-1072-4748-9dba-c3ea52f3456a\">\n",
              "  <button class=\"colab-df-quickchart\" onclick=\"quickchart('df-e0e8520b-1072-4748-9dba-c3ea52f3456a')\"\n",
              "            title=\"Suggest charts\"\n",
              "            style=\"display:none;\">\n",
              "\n",
              "<svg xmlns=\"http://www.w3.org/2000/svg\" height=\"24px\"viewBox=\"0 0 24 24\"\n",
              "     width=\"24px\">\n",
              "    <g>\n",
              "        <path d=\"M19 3H5c-1.1 0-2 .9-2 2v14c0 1.1.9 2 2 2h14c1.1 0 2-.9 2-2V5c0-1.1-.9-2-2-2zM9 17H7v-7h2v7zm4 0h-2V7h2v10zm4 0h-2v-4h2v4z\"/>\n",
              "    </g>\n",
              "</svg>\n",
              "  </button>\n",
              "\n",
              "<style>\n",
              "  .colab-df-quickchart {\n",
              "      --bg-color: #E8F0FE;\n",
              "      --fill-color: #1967D2;\n",
              "      --hover-bg-color: #E2EBFA;\n",
              "      --hover-fill-color: #174EA6;\n",
              "      --disabled-fill-color: #AAA;\n",
              "      --disabled-bg-color: #DDD;\n",
              "  }\n",
              "\n",
              "  [theme=dark] .colab-df-quickchart {\n",
              "      --bg-color: #3B4455;\n",
              "      --fill-color: #D2E3FC;\n",
              "      --hover-bg-color: #434B5C;\n",
              "      --hover-fill-color: #FFFFFF;\n",
              "      --disabled-bg-color: #3B4455;\n",
              "      --disabled-fill-color: #666;\n",
              "  }\n",
              "\n",
              "  .colab-df-quickchart {\n",
              "    background-color: var(--bg-color);\n",
              "    border: none;\n",
              "    border-radius: 50%;\n",
              "    cursor: pointer;\n",
              "    display: none;\n",
              "    fill: var(--fill-color);\n",
              "    height: 32px;\n",
              "    padding: 0;\n",
              "    width: 32px;\n",
              "  }\n",
              "\n",
              "  .colab-df-quickchart:hover {\n",
              "    background-color: var(--hover-bg-color);\n",
              "    box-shadow: 0 1px 2px rgba(60, 64, 67, 0.3), 0 1px 3px 1px rgba(60, 64, 67, 0.15);\n",
              "    fill: var(--button-hover-fill-color);\n",
              "  }\n",
              "\n",
              "  .colab-df-quickchart-complete:disabled,\n",
              "  .colab-df-quickchart-complete:disabled:hover {\n",
              "    background-color: var(--disabled-bg-color);\n",
              "    fill: var(--disabled-fill-color);\n",
              "    box-shadow: none;\n",
              "  }\n",
              "\n",
              "  .colab-df-spinner {\n",
              "    border: 2px solid var(--fill-color);\n",
              "    border-color: transparent;\n",
              "    border-bottom-color: var(--fill-color);\n",
              "    animation:\n",
              "      spin 1s steps(1) infinite;\n",
              "  }\n",
              "\n",
              "  @keyframes spin {\n",
              "    0% {\n",
              "      border-color: transparent;\n",
              "      border-bottom-color: var(--fill-color);\n",
              "      border-left-color: var(--fill-color);\n",
              "    }\n",
              "    20% {\n",
              "      border-color: transparent;\n",
              "      border-left-color: var(--fill-color);\n",
              "      border-top-color: var(--fill-color);\n",
              "    }\n",
              "    30% {\n",
              "      border-color: transparent;\n",
              "      border-left-color: var(--fill-color);\n",
              "      border-top-color: var(--fill-color);\n",
              "      border-right-color: var(--fill-color);\n",
              "    }\n",
              "    40% {\n",
              "      border-color: transparent;\n",
              "      border-right-color: var(--fill-color);\n",
              "      border-top-color: var(--fill-color);\n",
              "    }\n",
              "    60% {\n",
              "      border-color: transparent;\n",
              "      border-right-color: var(--fill-color);\n",
              "    }\n",
              "    80% {\n",
              "      border-color: transparent;\n",
              "      border-right-color: var(--fill-color);\n",
              "      border-bottom-color: var(--fill-color);\n",
              "    }\n",
              "    90% {\n",
              "      border-color: transparent;\n",
              "      border-bottom-color: var(--fill-color);\n",
              "    }\n",
              "  }\n",
              "</style>\n",
              "\n",
              "  <script>\n",
              "    async function quickchart(key) {\n",
              "      const quickchartButtonEl =\n",
              "        document.querySelector('#' + key + ' button');\n",
              "      quickchartButtonEl.disabled = true;  // To prevent multiple clicks.\n",
              "      quickchartButtonEl.classList.add('colab-df-spinner');\n",
              "      try {\n",
              "        const charts = await google.colab.kernel.invokeFunction(\n",
              "            'suggestCharts', [key], {});\n",
              "      } catch (error) {\n",
              "        console.error('Error during call to suggestCharts:', error);\n",
              "      }\n",
              "      quickchartButtonEl.classList.remove('colab-df-spinner');\n",
              "      quickchartButtonEl.classList.add('colab-df-quickchart-complete');\n",
              "    }\n",
              "    (() => {\n",
              "      let quickchartButtonEl =\n",
              "        document.querySelector('#df-e0e8520b-1072-4748-9dba-c3ea52f3456a button');\n",
              "      quickchartButtonEl.style.display =\n",
              "        google.colab.kernel.accessAllowed ? 'block' : 'none';\n",
              "    })();\n",
              "  </script>\n",
              "</div>\n",
              "\n",
              "    </div>\n",
              "  </div>\n"
            ],
            "application/vnd.google.colaboratory.intrinsic+json": {
              "type": "dataframe",
              "variable_name": "df",
              "summary": "{\n  \"name\": \"df\",\n  \"rows\": 150,\n  \"fields\": [\n    {\n      \"column\": \"Id\",\n      \"properties\": {\n        \"dtype\": \"number\",\n        \"std\": 43,\n        \"min\": 1,\n        \"max\": 150,\n        \"num_unique_values\": 150,\n        \"samples\": [\n          74,\n          19,\n          119\n        ],\n        \"semantic_type\": \"\",\n        \"description\": \"\"\n      }\n    },\n    {\n      \"column\": \"SepalLengthCm\",\n      \"properties\": {\n        \"dtype\": \"number\",\n        \"std\": 0.828066127977863,\n        \"min\": 4.3,\n        \"max\": 7.9,\n        \"num_unique_values\": 35,\n        \"samples\": [\n          6.2,\n          4.5,\n          5.6\n        ],\n        \"semantic_type\": \"\",\n        \"description\": \"\"\n      }\n    },\n    {\n      \"column\": \"SepalWidthCm\",\n      \"properties\": {\n        \"dtype\": \"number\",\n        \"std\": 0.4335943113621737,\n        \"min\": 2.0,\n        \"max\": 4.4,\n        \"num_unique_values\": 23,\n        \"samples\": [\n          2.3,\n          4.0,\n          3.5\n        ],\n        \"semantic_type\": \"\",\n        \"description\": \"\"\n      }\n    },\n    {\n      \"column\": \"PetalLengthCm\",\n      \"properties\": {\n        \"dtype\": \"number\",\n        \"std\": 1.7644204199522626,\n        \"min\": 1.0,\n        \"max\": 6.9,\n        \"num_unique_values\": 43,\n        \"samples\": [\n          6.7,\n          3.8,\n          3.7\n        ],\n        \"semantic_type\": \"\",\n        \"description\": \"\"\n      }\n    },\n    {\n      \"column\": \"PetalWidthCm\",\n      \"properties\": {\n        \"dtype\": \"number\",\n        \"std\": 0.7631607417008411,\n        \"min\": 0.1,\n        \"max\": 2.5,\n        \"num_unique_values\": 22,\n        \"samples\": [\n          0.2,\n          1.2,\n          1.3\n        ],\n        \"semantic_type\": \"\",\n        \"description\": \"\"\n      }\n    },\n    {\n      \"column\": \"Species\",\n      \"properties\": {\n        \"dtype\": \"category\",\n        \"num_unique_values\": 3,\n        \"samples\": [\n          \"Iris-setosa\",\n          \"Iris-versicolor\",\n          \"Iris-virginica\"\n        ],\n        \"semantic_type\": \"\",\n        \"description\": \"\"\n      }\n    }\n  ]\n}"
            }
          },
          "metadata": {},
          "execution_count": 4
        }
      ],
      "source": [
        "import pandas as pd\n",
        "from google.colab import files\n",
        "from sklearn.model_selection import train_test_split, GridSearchCV, cross_val_score\n",
        "from sklearn.preprocessing import StandardScaler\n",
        "from sklearn.neighbors import KNeighborsClassifier\n",
        "from sklearn.svm import SVC\n",
        "from sklearn.metrics import accuracy_score, precision_score, recall_score, f1_score\n",
        "\n",
        "\n",
        "df = pd.read_csv('Iris.csv')\n",
        "\n",
        "# Display the first few rows of the DataFrame\n",
        "df.head()\n"
      ]
    },
    {
      "cell_type": "markdown",
      "source": [
        "Iris dataset needs no cleaning or dealing with outliers as it's a clean and a small simple dataset that has 150 samples, 4 features (petal length, petal width, sepal length, sepal width) and 3 classes (Iris-setosa, Iris-versicolor & Iris-virginica).\n",
        "\n",
        "The source of the dataset we used is an Iris.csv file sent to us on google classroom so we downloaded it then uploaded it to our notebook, it can alse be brought from several python ml libraries as tensorflow, keras, kaggle etc.."
      ],
      "metadata": {
        "id": "j4B1dipChNTC"
      }
    },
    {
      "cell_type": "markdown",
      "source": [
        "Summary of the Iris dataset"
      ],
      "metadata": {
        "id": "OIry_5prsYDU"
      }
    },
    {
      "cell_type": "code",
      "source": [
        "print(df.describe())"
      ],
      "metadata": {
        "colab": {
          "base_uri": "https://localhost:8080/"
        },
        "id": "aEYG6vmV00nt",
        "outputId": "c5aa7d97-0f3a-4ef4-934c-70132c0b24fd"
      },
      "execution_count": 5,
      "outputs": [
        {
          "output_type": "stream",
          "name": "stdout",
          "text": [
            "               Id  SepalLengthCm  SepalWidthCm  PetalLengthCm  PetalWidthCm\n",
            "count  150.000000     150.000000    150.000000     150.000000    150.000000\n",
            "mean    75.500000       5.843333      3.054000       3.758667      1.198667\n",
            "std     43.445368       0.828066      0.433594       1.764420      0.763161\n",
            "min      1.000000       4.300000      2.000000       1.000000      0.100000\n",
            "25%     38.250000       5.100000      2.800000       1.600000      0.300000\n",
            "50%     75.500000       5.800000      3.000000       4.350000      1.300000\n",
            "75%    112.750000       6.400000      3.300000       5.100000      1.800000\n",
            "max    150.000000       7.900000      4.400000       6.900000      2.500000\n"
          ]
        }
      ]
    },
    {
      "cell_type": "markdown",
      "source": [
        "checking for any missing values to see if we need to operate on them before training the model"
      ],
      "metadata": {
        "id": "LOC_EqXxsbPY"
      }
    },
    {
      "cell_type": "code",
      "source": [
        "print(df.isnull().sum())"
      ],
      "metadata": {
        "colab": {
          "base_uri": "https://localhost:8080/"
        },
        "id": "Ec3Mdc1R02oL",
        "outputId": "c88c9122-bbe2-43af-e038-1aea5f78e2de"
      },
      "execution_count": 6,
      "outputs": [
        {
          "output_type": "stream",
          "name": "stdout",
          "text": [
            "Id               0\n",
            "SepalLengthCm    0\n",
            "SepalWidthCm     0\n",
            "PetalLengthCm    0\n",
            "PetalWidthCm     0\n",
            "Species          0\n",
            "dtype: int64\n"
          ]
        }
      ]
    },
    {
      "cell_type": "markdown",
      "source": [
        "Splitting the data into features and label, for X we dropped the column ID as it has no meaning for the model and we dropped the species because this is the labels set for y"
      ],
      "metadata": {
        "id": "GFJATrt7sgox"
      }
    },
    {
      "cell_type": "code",
      "source": [
        "X = df.drop(['Species', 'Id'], axis=1)\n",
        "y = df['Species']"
      ],
      "metadata": {
        "id": "BojpNsc90_xd"
      },
      "execution_count": 7,
      "outputs": []
    },
    {
      "cell_type": "markdown",
      "source": [
        "Printing the set of features for the model to train on"
      ],
      "metadata": {
        "id": "KTCRTZ_dsxW6"
      }
    },
    {
      "cell_type": "code",
      "source": [
        "print(X)"
      ],
      "metadata": {
        "colab": {
          "base_uri": "https://localhost:8080/"
        },
        "id": "qNuyDXbJ49ON",
        "outputId": "7713f5bd-6a32-4ffd-977f-1c25c5b236bf"
      },
      "execution_count": 8,
      "outputs": [
        {
          "output_type": "stream",
          "name": "stdout",
          "text": [
            "     SepalLengthCm  SepalWidthCm  PetalLengthCm  PetalWidthCm\n",
            "0              5.1           3.5            1.4           0.2\n",
            "1              4.9           3.0            1.4           0.2\n",
            "2              4.7           3.2            1.3           0.2\n",
            "3              4.6           3.1            1.5           0.2\n",
            "4              5.0           3.6            1.4           0.2\n",
            "..             ...           ...            ...           ...\n",
            "145            6.7           3.0            5.2           2.3\n",
            "146            6.3           2.5            5.0           1.9\n",
            "147            6.5           3.0            5.2           2.0\n",
            "148            6.2           3.4            5.4           2.3\n",
            "149            5.9           3.0            5.1           1.8\n",
            "\n",
            "[150 rows x 4 columns]\n"
          ]
        }
      ]
    },
    {
      "cell_type": "markdown",
      "source": [
        "Printing the labels we have in the dataset"
      ],
      "metadata": {
        "id": "yCbUN2zGs1dx"
      }
    },
    {
      "cell_type": "code",
      "source": [
        "print(y)"
      ],
      "metadata": {
        "colab": {
          "base_uri": "https://localhost:8080/"
        },
        "id": "YMxG37Rm6rdi",
        "outputId": "0c0a1f08-40b5-483e-9386-8535a7e75365"
      },
      "execution_count": 9,
      "outputs": [
        {
          "output_type": "stream",
          "name": "stdout",
          "text": [
            "0         Iris-setosa\n",
            "1         Iris-setosa\n",
            "2         Iris-setosa\n",
            "3         Iris-setosa\n",
            "4         Iris-setosa\n",
            "            ...      \n",
            "145    Iris-virginica\n",
            "146    Iris-virginica\n",
            "147    Iris-virginica\n",
            "148    Iris-virginica\n",
            "149    Iris-virginica\n",
            "Name: Species, Length: 150, dtype: object\n"
          ]
        }
      ]
    },
    {
      "cell_type": "markdown",
      "source": [
        "Splitting data into train and test values, X for features and Y for labels(Classes), we chose a 70% training size and 30% test size"
      ],
      "metadata": {
        "id": "cKrkxiXxh8sQ"
      }
    },
    {
      "cell_type": "code",
      "source": [
        "X_train, X_test, y_train, y_test = train_test_split(X, y, test_size=0.3, random_state=42)"
      ],
      "metadata": {
        "id": "3D2TYAOn1D1G"
      },
      "execution_count": 10,
      "outputs": []
    },
    {
      "cell_type": "markdown",
      "source": [
        "We performed standradiztion on data to enhance the KNN & SVM models, it can also enhance the models working with gradient descent as Linear & Logistic Regression.\n",
        "This subtracts each feature in the Iris dataset from its mean which centers the data around zero, then after centering the data, each feature is scaled by its standard deviation. This transforms the data so that each feature has a standard deviation of one.\n",
        "\n",
        "z= (x−μ) / σ\n",
        "\n",
        "\n",
        "\n",
        "\n",
        "\n",
        "Where:\n",
        "\n",
        "𝑥 is the original value.\n",
        "\n",
        "𝜇 is the mean of the feature.\n",
        "\n",
        "𝜎 is the standard deviation of the feature.\n",
        "\n",
        "𝑧 is the standardized value.\n",
        "\n",
        "\n",
        "This can help the model train better."
      ],
      "metadata": {
        "id": "DTo5F9CZiM8B"
      }
    },
    {
      "cell_type": "code",
      "source": [
        "scaler = StandardScaler()\n",
        "X_train = scaler.fit_transform(X_train)\n",
        "X_test = scaler.transform(X_test)"
      ],
      "metadata": {
        "id": "PZT0KK8L1Nk5"
      },
      "execution_count": 11,
      "outputs": []
    },
    {
      "cell_type": "markdown",
      "source": [
        "Training the KNN model, KNN stands for K nearest neighbors which is a machine learning algorithm can be used for both classification and regression, it works by assumning that close in distance points should have the same features, so it classifies based on similarity with close points and you choose the number of points to compare to with the hyperparameter n_neighbors, a high number would make the difference in classes less distinguishable and the model might underfit, other hyperparamters include the way we would take the distance between them, there are Euclidean distance that takes the formula (x2-x1)^2 + (y2-y1)^2 all under square root.\n",
        "There are also other distance metrics like Manhattan Distance which uses the absolute formula of the difference of distance, and there is Minkowski Distance which is a generalization of both Euclidean and Manhattan."
      ],
      "metadata": {
        "id": "2wlE3fYZX-vm"
      }
    },
    {
      "cell_type": "code",
      "source": [
        "knn = KNeighborsClassifier(n_neighbors=5, metric=\"euclidean\")\n",
        "knn.fit(X_train, y_train)"
      ],
      "metadata": {
        "colab": {
          "base_uri": "https://localhost:8080/",
          "height": 74
        },
        "id": "fgmpByTsJwPr",
        "outputId": "182f2fa6-1d67-41e2-ef90-60b060acb26f"
      },
      "execution_count": 12,
      "outputs": [
        {
          "output_type": "execute_result",
          "data": {
            "text/plain": [
              "KNeighborsClassifier(metric='euclidean')"
            ],
            "text/html": [
              "<style>#sk-container-id-1 {color: black;}#sk-container-id-1 pre{padding: 0;}#sk-container-id-1 div.sk-toggleable {background-color: white;}#sk-container-id-1 label.sk-toggleable__label {cursor: pointer;display: block;width: 100%;margin-bottom: 0;padding: 0.3em;box-sizing: border-box;text-align: center;}#sk-container-id-1 label.sk-toggleable__label-arrow:before {content: \"▸\";float: left;margin-right: 0.25em;color: #696969;}#sk-container-id-1 label.sk-toggleable__label-arrow:hover:before {color: black;}#sk-container-id-1 div.sk-estimator:hover label.sk-toggleable__label-arrow:before {color: black;}#sk-container-id-1 div.sk-toggleable__content {max-height: 0;max-width: 0;overflow: hidden;text-align: left;background-color: #f0f8ff;}#sk-container-id-1 div.sk-toggleable__content pre {margin: 0.2em;color: black;border-radius: 0.25em;background-color: #f0f8ff;}#sk-container-id-1 input.sk-toggleable__control:checked~div.sk-toggleable__content {max-height: 200px;max-width: 100%;overflow: auto;}#sk-container-id-1 input.sk-toggleable__control:checked~label.sk-toggleable__label-arrow:before {content: \"▾\";}#sk-container-id-1 div.sk-estimator input.sk-toggleable__control:checked~label.sk-toggleable__label {background-color: #d4ebff;}#sk-container-id-1 div.sk-label input.sk-toggleable__control:checked~label.sk-toggleable__label {background-color: #d4ebff;}#sk-container-id-1 input.sk-hidden--visually {border: 0;clip: rect(1px 1px 1px 1px);clip: rect(1px, 1px, 1px, 1px);height: 1px;margin: -1px;overflow: hidden;padding: 0;position: absolute;width: 1px;}#sk-container-id-1 div.sk-estimator {font-family: monospace;background-color: #f0f8ff;border: 1px dotted black;border-radius: 0.25em;box-sizing: border-box;margin-bottom: 0.5em;}#sk-container-id-1 div.sk-estimator:hover {background-color: #d4ebff;}#sk-container-id-1 div.sk-parallel-item::after {content: \"\";width: 100%;border-bottom: 1px solid gray;flex-grow: 1;}#sk-container-id-1 div.sk-label:hover label.sk-toggleable__label {background-color: #d4ebff;}#sk-container-id-1 div.sk-serial::before {content: \"\";position: absolute;border-left: 1px solid gray;box-sizing: border-box;top: 0;bottom: 0;left: 50%;z-index: 0;}#sk-container-id-1 div.sk-serial {display: flex;flex-direction: column;align-items: center;background-color: white;padding-right: 0.2em;padding-left: 0.2em;position: relative;}#sk-container-id-1 div.sk-item {position: relative;z-index: 1;}#sk-container-id-1 div.sk-parallel {display: flex;align-items: stretch;justify-content: center;background-color: white;position: relative;}#sk-container-id-1 div.sk-item::before, #sk-container-id-1 div.sk-parallel-item::before {content: \"\";position: absolute;border-left: 1px solid gray;box-sizing: border-box;top: 0;bottom: 0;left: 50%;z-index: -1;}#sk-container-id-1 div.sk-parallel-item {display: flex;flex-direction: column;z-index: 1;position: relative;background-color: white;}#sk-container-id-1 div.sk-parallel-item:first-child::after {align-self: flex-end;width: 50%;}#sk-container-id-1 div.sk-parallel-item:last-child::after {align-self: flex-start;width: 50%;}#sk-container-id-1 div.sk-parallel-item:only-child::after {width: 0;}#sk-container-id-1 div.sk-dashed-wrapped {border: 1px dashed gray;margin: 0 0.4em 0.5em 0.4em;box-sizing: border-box;padding-bottom: 0.4em;background-color: white;}#sk-container-id-1 div.sk-label label {font-family: monospace;font-weight: bold;display: inline-block;line-height: 1.2em;}#sk-container-id-1 div.sk-label-container {text-align: center;}#sk-container-id-1 div.sk-container {/* jupyter's `normalize.less` sets `[hidden] { display: none; }` but bootstrap.min.css set `[hidden] { display: none !important; }` so we also need the `!important` here to be able to override the default hidden behavior on the sphinx rendered scikit-learn.org. See: https://github.com/scikit-learn/scikit-learn/issues/21755 */display: inline-block !important;position: relative;}#sk-container-id-1 div.sk-text-repr-fallback {display: none;}</style><div id=\"sk-container-id-1\" class=\"sk-top-container\"><div class=\"sk-text-repr-fallback\"><pre>KNeighborsClassifier(metric=&#x27;euclidean&#x27;)</pre><b>In a Jupyter environment, please rerun this cell to show the HTML representation or trust the notebook. <br />On GitHub, the HTML representation is unable to render, please try loading this page with nbviewer.org.</b></div><div class=\"sk-container\" hidden><div class=\"sk-item\"><div class=\"sk-estimator sk-toggleable\"><input class=\"sk-toggleable__control sk-hidden--visually\" id=\"sk-estimator-id-1\" type=\"checkbox\" checked><label for=\"sk-estimator-id-1\" class=\"sk-toggleable__label sk-toggleable__label-arrow\">KNeighborsClassifier</label><div class=\"sk-toggleable__content\"><pre>KNeighborsClassifier(metric=&#x27;euclidean&#x27;)</pre></div></div></div></div></div>"
            ]
          },
          "metadata": {},
          "execution_count": 12
        }
      ]
    },
    {
      "cell_type": "markdown",
      "source": [
        "Testing the KNN model we just trained to see how well it performs."
      ],
      "metadata": {
        "id": "UQDUzr2SX6TV"
      }
    },
    {
      "cell_type": "code",
      "source": [
        "y_pred_knn = knn.predict(X_test)"
      ],
      "metadata": {
        "id": "Zo6zI8T4LB-L"
      },
      "execution_count": 13,
      "outputs": []
    },
    {
      "cell_type": "markdown",
      "source": [
        "Here we are training the SVM model, SVM stands for support vector machines which is a supervised machine learning algorithm used for classification and regression tasks. SVM works by finding the hyperplane that best separates the classes in the feature space.\n",
        "\n",
        "In two dimensions plane the hyperplane is simply a line that separates, in higher dimensions it becomes a plane or a hyperplane.\n",
        "\n",
        "There are support vectors which are data points closest to the hyperplane, these are crucial as they help in defining the position and orientation(angle) of the hyperplane. The optimal hyperplane is the one that maximizes the margin, which is the distance between the hyperplane and the nearest support vector from either class.\n",
        "\n",
        "The margin is the distance between the hyperplane and the support vectors.\n",
        "SVM aims to maximize this margin to improve the generalization ability of the model.\n",
        "\n",
        "we are using the Linear kernel as our dataset is small and can be easily classified with linear and no need for more complex kernels like RBF(Gaussian Kernel) or polynomial or Sigmoid like the ones used in neural networks.\n",
        "\n",
        "The linear kernel takes the hyperparameters C which is for regularization, higher value leads to less misclassification but might lead to overfitting, and lower values allow for some misclassfication so the model can learn, we are using a grid search with different C values to find the best C for our data model and use it after."
      ],
      "metadata": {
        "id": "xdtjWzYIjRSy"
      }
    },
    {
      "cell_type": "code",
      "source": [
        "param_grid = {\n",
        "    'C': [0.1, 1, 10, 100],\n",
        "    'kernel': ['linear', 'rbf'],\n",
        "    'gamma': ['scale', 'auto']\n",
        "}\n",
        "\n",
        "grid_search = GridSearchCV(SVC(), param_grid, cv=5, scoring='accuracy')\n",
        "grid_search.fit(X_train, y_train)\n",
        "\n",
        "print(\"Best parameters:\", grid_search.best_params_)\n",
        "print(\"Best cross-validation accuracy:\", grid_search.best_score_)"
      ],
      "metadata": {
        "colab": {
          "base_uri": "https://localhost:8080/"
        },
        "id": "9zNbGZnSqK8P",
        "outputId": "05d8c71f-6afb-48a6-8684-3866abc332a7"
      },
      "execution_count": 14,
      "outputs": [
        {
          "output_type": "stream",
          "name": "stdout",
          "text": [
            "Best parameters: {'C': 10, 'gamma': 'scale', 'kernel': 'linear'}\n",
            "Best cross-validation accuracy: 0.9523809523809523\n"
          ]
        }
      ]
    },
    {
      "cell_type": "markdown",
      "source": [
        "Predicting using the best C value we got in SVM on X_test"
      ],
      "metadata": {
        "id": "E4H1d9_Exb7x"
      }
    },
    {
      "cell_type": "code",
      "source": [
        "best_svm = grid_search.best_estimator_\n",
        "\n",
        "y_pred_svm = best_svm.predict(X_test)"
      ],
      "metadata": {
        "id": "5naFf5Moqi-H"
      },
      "execution_count": 15,
      "outputs": []
    },
    {
      "cell_type": "markdown",
      "source": [
        "Evaluating the accuracy of the model using different accuracy modes\n",
        "\n",
        "Accuracy: The ratio of correctly predicted instances to the total instances.\n",
        "\n",
        "Precision: The ratio of correctly predicted positive observations to the total predicted positives (How many true positives is correct)\n",
        "\n",
        "Recall: The ratio of correctly predicted positive observations to all observations in the actual class. (True Positive Rates)\n",
        "\n",
        "F1 Score: The weighted average of Precision and Recall. It is a harmonic mean of precision and recall."
      ],
      "metadata": {
        "id": "U6anbOhexiFL"
      }
    },
    {
      "cell_type": "code",
      "source": [
        "metrics = {\n",
        "    'Model': ['KNN', 'SVM'],\n",
        "    'Accuracy': [\n",
        "        accuracy_score(y_test, y_pred_knn),\n",
        "        accuracy_score(y_test, y_pred_svm)\n",
        "    ],\n",
        "    'Precision': [\n",
        "        precision_score(y_test, y_pred_knn, average='macro'),\n",
        "        precision_score(y_test, y_pred_svm, average='macro')\n",
        "    ],\n",
        "    'Recall': [\n",
        "        recall_score(y_test, y_pred_knn, average='macro'),\n",
        "        recall_score(y_test, y_pred_svm, average='macro')\n",
        "    ],\n",
        "    'F1 Score': [\n",
        "        f1_score(y_test, y_pred_knn, average='macro'),\n",
        "        f1_score(y_test, y_pred_svm, average='macro')\n",
        "    ],\n",
        "}\n",
        "\n",
        "metrics_df = pd.DataFrame(metrics)\n",
        "\n",
        "print(metrics_df.to_string(index=False))"
      ],
      "metadata": {
        "colab": {
          "base_uri": "https://localhost:8080/"
        },
        "id": "e1YPfVKVqnmV",
        "outputId": "016b3fdf-831b-4f08-8f90-187cdcfffca7"
      },
      "execution_count": 16,
      "outputs": [
        {
          "output_type": "stream",
          "name": "stdout",
          "text": [
            "Model  Accuracy  Precision   Recall  F1 Score\n",
            "  KNN  1.000000    1.00000 1.000000  1.000000\n",
            "  SVM  0.977778    0.97619 0.974359  0.974321\n"
          ]
        }
      ]
    },
    {
      "cell_type": "markdown",
      "source": [
        "Cross validation accross both KNN & SVM"
      ],
      "metadata": {
        "id": "UogZh1liKgwD"
      }
    },
    {
      "cell_type": "code",
      "source": [
        "knn_cv_scores = cross_val_score(knn, X, y, cv=5)\n",
        "svm_cv_scores = cross_val_score(best_svm, X, y, cv=5)\n",
        "\n",
        "print(\"KNN Cross-Validation Accuracy Scores:\", knn_cv_scores)\n",
        "print(\"SVM Cross-Validation Accuracy Scores:\", svm_cv_scores)"
      ],
      "metadata": {
        "colab": {
          "base_uri": "https://localhost:8080/"
        },
        "id": "WNR3-g67KePh",
        "outputId": "6f14e8ae-8693-457c-b9ed-e1d76c176811"
      },
      "execution_count": 17,
      "outputs": [
        {
          "output_type": "stream",
          "name": "stdout",
          "text": [
            "KNN Cross-Validation Accuracy Scores: [0.96666667 1.         0.93333333 0.96666667 1.        ]\n",
            "SVM Cross-Validation Accuracy Scores: [1.         1.         0.9        0.96666667 1.        ]\n"
          ]
        }
      ]
    },
    {
      "cell_type": "markdown",
      "source": [
        "Sample Distribution"
      ],
      "metadata": {
        "id": "qAmm34yF238k"
      }
    },
    {
      "cell_type": "code",
      "source": [
        "print(\"Training set shape:\", X_train.shape)\n",
        "print(\"Test set shape:\", X_test.shape)\n",
        "print(\"Sample of X_train:\\n\", X_train[:5])\n",
        "print(\"Sample of X_test:\\n\", X_test[:5])\n",
        "print(\"Sample of y_train:\\n\", y_train.head())\n",
        "print(\"Sample of y_test:\\n\", y_test.head())"
      ],
      "metadata": {
        "colab": {
          "base_uri": "https://localhost:8080/"
        },
        "id": "9ifhZ7FMr-Jw",
        "outputId": "48c4b93d-a036-43e8-b01e-07b251c8e5a2"
      },
      "execution_count": 18,
      "outputs": [
        {
          "output_type": "stream",
          "name": "stdout",
          "text": [
            "Training set shape: (105, 4)\n",
            "Test set shape: (45, 4)\n",
            "Sample of X_train:\n",
            " [[-0.4134164  -1.46440146 -0.10014569 -0.32149987]\n",
            " [ 0.55122187 -0.49582097  0.71771076  0.35364985]\n",
            " [ 0.67180165  0.2306144   0.95138404  0.75873969]\n",
            " [ 0.91296121 -0.01153072  0.30878254  0.21861991]\n",
            " [ 1.63643991  1.44134002  1.30189395  1.7039493 ]]\n",
            "Sample of X_test:\n",
            " [[ 0.3100623  -0.49582097  0.48403749 -0.05143998]\n",
            " [-0.17225683  1.92563026 -1.26851205 -1.26670948]\n",
            " [ 2.23933883 -0.98011121  1.76924049  1.43388941]\n",
            " [ 0.18948252 -0.25367584  0.36720086  0.35364985]\n",
            " [ 1.15412078 -0.49582097  0.54245581  0.21861991]]\n",
            "Sample of y_train:\n",
            " 81     Iris-versicolor\n",
            "133     Iris-virginica\n",
            "137     Iris-virginica\n",
            "75     Iris-versicolor\n",
            "109     Iris-virginica\n",
            "Name: Species, dtype: object\n",
            "Sample of y_test:\n",
            " 73     Iris-versicolor\n",
            "18         Iris-setosa\n",
            "118     Iris-virginica\n",
            "78     Iris-versicolor\n",
            "76     Iris-versicolor\n",
            "Name: Species, dtype: object\n"
          ]
        }
      ]
    },
    {
      "cell_type": "markdown",
      "source": [
        "**References used**\n",
        "\n",
        "\n",
        "\n",
        "1.   Geeks for geeks: https://www.geeksforgeeks.org/iris-dataset/\n",
        "2.   Kaggle: https://www.kaggle.com/datasets/uciml/iris\n",
        "3.   ChatGPT to understand working with pandas and how to regularize data and perform metrics.\n",
        "\n"
      ],
      "metadata": {
        "id": "CB0v0MQUZiQW"
      }
    },
    {
      "cell_type": "markdown",
      "source": [
        "**Working with MNIST Dataset**\n",
        "\n",
        "We imported MNIST Dataset from tensorflow and loaded them into train and test sets.\n",
        "\n",
        "MNIST is a set of 70000 handwritten digits in form of images.\n",
        "After we make the dataset into train and test, we then make the labels in form of binary vector using one hot encoding.\n",
        "Then we reshape the data so we can work with it in neural networks, we form it into 28 x 28 pixels with 1 channel greyscale and -1 at the beginning means to get the size of the new reshaped dimensions automatically from the previous one before reshaping.\n",
        "After that we print the shapes of the images after reshaping before entering ANN & CNN models."
      ],
      "metadata": {
        "id": "YRvd1ZJ43Uuu"
      }
    },
    {
      "cell_type": "code",
      "execution_count": 19,
      "metadata": {
        "colab": {
          "base_uri": "https://localhost:8080/"
        },
        "id": "xyphOIE9TpzP",
        "outputId": "92514995-6467-470a-f487-d22880558297"
      },
      "outputs": [
        {
          "output_type": "stream",
          "name": "stdout",
          "text": [
            "Downloading data from https://storage.googleapis.com/tensorflow/tf-keras-datasets/mnist.npz\n",
            "11490434/11490434 [==============================] - 0s 0us/step\n",
            "Train data shape: (60000, 28, 28, 1), Train labels shape: (60000, 10)\n",
            "Test data shape: (10000, 28, 28, 1), Test labels shape: (10000, 10)\n"
          ]
        }
      ],
      "source": [
        "import tensorflow as tf\n",
        "from tensorflow.keras.datasets import mnist\n",
        "from tensorflow.keras.utils import to_categorical\n",
        "\n",
        "(x_train, y_train), (x_test, y_test) = mnist.load_data()\n",
        "\n",
        "y_train = to_categorical(y_train, 10)\n",
        "y_test = to_categorical(y_test, 10)\n",
        "\n",
        "x_train = x_train.reshape(-1, 28, 28, 1).astype('float32')\n",
        "x_test = x_test.reshape(-1, 28, 28, 1).astype('float32')\n",
        "\n",
        "print(f\"Train data shape: {x_train.shape}, Train labels shape: {y_train.shape}\")\n",
        "print(f\"Test data shape: {x_test.shape}, Test labels shape: {y_test.shape}\")\n"
      ]
    },
    {
      "cell_type": "markdown",
      "source": [
        "We normalize the data by dividing with 255.0 as it is float, so the values become 0 / 1 for easier model training and more stable.\n",
        "Then we divide them for train and test with 48000 for training, 12000 for validation through training, and 10000 for testing after training.\n",
        "\n",
        "x_train: The training data images.\n",
        "\n",
        "y_train: The training data labels.\n",
        "\n",
        "test_size=0.2: Means 20% of the training data will be used for validation.\n",
        "\n",
        "random_state=42: Ensures reproducibility of the split by using a fixed random seed."
      ],
      "metadata": {
        "id": "6PbcIeI99jdD"
      }
    },
    {
      "cell_type": "code",
      "source": [
        "# Normalize data\n",
        "x_train /= 255.0\n",
        "x_test /= 255.0\n",
        "\n",
        "from sklearn.model_selection import train_test_split\n",
        "\n",
        "x_train, x_val, y_train, y_val = train_test_split(x_train, y_train, test_size=0.2, random_state=42)\n",
        "\n",
        "print(f\"Train data shape: {x_train.shape}, Validation data shape: {x_val.shape}, Test data shape: {x_test.shape}\")\n"
      ],
      "metadata": {
        "colab": {
          "base_uri": "https://localhost:8080/"
        },
        "id": "l23gSrT-TvAA",
        "outputId": "0c81f983-9245-4ccb-95c0-f4bfca99846f"
      },
      "execution_count": 20,
      "outputs": [
        {
          "output_type": "stream",
          "name": "stdout",
          "text": [
            "Train data shape: (48000, 28, 28, 1), Validation data shape: (12000, 28, 28, 1), Test data shape: (10000, 28, 28, 1)\n"
          ]
        }
      ]
    },
    {
      "cell_type": "markdown",
      "source": [
        "Here we are importing Sequential to be able to create Neural Networks with multiple layers as this Class allows for stacking layers layer by layer in like a stack.\n",
        "Then we import Dense and flatten for processing the image in the neural network.\n",
        "\n",
        "We created a method called create_ann_model which makes an ann model for us,\n",
        "it starts by making an object from class Sequential, then we flatten, this layer reshapes the input data from a 28x28x1 matrix (grayscale image) into a 1D vector of size 784 (28*28).\n",
        "Then we add a layer that has 512 fully connected neural networks with activation funciton relu as it helps in solving the vanishing gradient problem.\n",
        "This means that this layer learns 512 feature from the previous layer.\n",
        "Then onto the next layer which is a layer of 256 fully connected neural networks that learns from the previous layer.\n",
        "Then the final layer which is the layer that has 10 neurons for classification of the digits (From 0 to 9), which relies on the softmax activation function which is suitable in multi-class classification. Then we return the model.\n",
        "\n",
        "Then we are creating an ann model from the method then we compile the method using the adam optimizer which is an efficient optimization algorithm that adjusts the learning rate automatically and widely used in deep learning, and used categorical_crossentropy which is appropriate for multi-class classification tasks where the labels are one-hot encoded. And we want the accuracy metric for further on when we compare the models to choose the best one.\n",
        "\n",
        "Then we print the summary of the model to show what we created with the ann model."
      ],
      "metadata": {
        "id": "ziBeswPXKeS8"
      }
    },
    {
      "cell_type": "code",
      "source": [
        "from tensorflow.keras.models import Sequential\n",
        "from tensorflow.keras.layers import Dense, Flatten\n",
        "\n",
        "def create_ann_model():\n",
        "    model = Sequential()\n",
        "    model.add(Flatten(input_shape=(28, 28, 1)))\n",
        "    model.add(Dense(512, activation='relu'))\n",
        "    model.add(Dense(256, activation='relu'))\n",
        "    model.add(Dense(10, activation='softmax'))\n",
        "    return model\n",
        "\n",
        "ann_model = create_ann_model()\n",
        "ann_model.compile(optimizer='adam', loss='categorical_crossentropy', metrics=['accuracy'])\n",
        "ann_model.summary()\n"
      ],
      "metadata": {
        "colab": {
          "base_uri": "https://localhost:8080/"
        },
        "id": "MWGAovQYTxdt",
        "outputId": "c0e92022-8e1f-4cfb-907e-70ac078cfc1a"
      },
      "execution_count": 21,
      "outputs": [
        {
          "output_type": "stream",
          "name": "stdout",
          "text": [
            "Model: \"sequential\"\n",
            "_________________________________________________________________\n",
            " Layer (type)                Output Shape              Param #   \n",
            "=================================================================\n",
            " flatten (Flatten)           (None, 784)               0         \n",
            "                                                                 \n",
            " dense (Dense)               (None, 512)               401920    \n",
            "                                                                 \n",
            " dense_1 (Dense)             (None, 256)               131328    \n",
            "                                                                 \n",
            " dense_2 (Dense)             (None, 10)                2570      \n",
            "                                                                 \n",
            "=================================================================\n",
            "Total params: 535818 (2.04 MB)\n",
            "Trainable params: 535818 (2.04 MB)\n",
            "Non-trainable params: 0 (0.00 Byte)\n",
            "_________________________________________________________________\n"
          ]
        }
      ]
    },
    {
      "cell_type": "markdown",
      "source": [
        "We imported the needed methods to make CNN models for filters(Conv2D) and dimensionality reduction(MaxPooling2D)\n",
        "\n",
        "First we defined a method called create_cnn_model_1 which creates a sequential model then first performs convolution on 2D image with 32 filters, slides on the image doing convolution a 3 by 3 kernel and an activation funcion relu for non linear learning which helps learning complex features or patterns, the input is 2D image with greyscale.\n",
        "\n",
        "Then we perform Max Pooling on the image to reduce dimensionality, and choose a 2 by 2 pool, which makes the features less complex in dimensionality to escape dimensionality hell.\n",
        "\n",
        "Then we reshape the image into a 1D Vector, then we make a dense neural network linear fully connected with relu activation function, then we make another layer for classification with 10 neurons corresponding to the 10 classes in the MNIST Dataset while using the softmax for multi-class classification. Then we return the model.\n",
        "\n",
        "we create a model by using the method then compile it using adam optimizer, categorical_crossentropy loss and accuracy for further comparison."
      ],
      "metadata": {
        "id": "6QfZBv2qNkvY"
      }
    },
    {
      "cell_type": "code",
      "source": [
        "from tensorflow.keras.layers import Conv2D, MaxPooling2D\n",
        "\n",
        "def create_cnn_model_1():\n",
        "    model = Sequential()\n",
        "    model.add(Conv2D(32, kernel_size=(3, 3), activation='relu', input_shape=(28, 28, 1)))\n",
        "    model.add(MaxPooling2D(pool_size=(2, 2)))\n",
        "    model.add(Flatten())\n",
        "    model.add(Dense(128, activation='relu'))\n",
        "    model.add(Dense(10, activation='softmax'))\n",
        "    return model\n",
        "\n",
        "cnn_model_1 = create_cnn_model_1()\n",
        "cnn_model_1.compile(optimizer='adam', loss='categorical_crossentropy', metrics=['accuracy'])\n",
        "cnn_model_1.summary()\n"
      ],
      "metadata": {
        "colab": {
          "base_uri": "https://localhost:8080/"
        },
        "id": "ed_duzXoTyI-",
        "outputId": "64e8fd7a-b3de-4c49-d454-a2880a80c89d"
      },
      "execution_count": 22,
      "outputs": [
        {
          "output_type": "stream",
          "name": "stdout",
          "text": [
            "Model: \"sequential_1\"\n",
            "_________________________________________________________________\n",
            " Layer (type)                Output Shape              Param #   \n",
            "=================================================================\n",
            " conv2d (Conv2D)             (None, 26, 26, 32)        320       \n",
            "                                                                 \n",
            " max_pooling2d (MaxPooling2  (None, 13, 13, 32)        0         \n",
            " D)                                                              \n",
            "                                                                 \n",
            " flatten_1 (Flatten)         (None, 5408)              0         \n",
            "                                                                 \n",
            " dense_3 (Dense)             (None, 128)               692352    \n",
            "                                                                 \n",
            " dense_4 (Dense)             (None, 10)                1290      \n",
            "                                                                 \n",
            "=================================================================\n",
            "Total params: 693962 (2.65 MB)\n",
            "Trainable params: 693962 (2.65 MB)\n",
            "Non-trainable params: 0 (0.00 Byte)\n",
            "_________________________________________________________________\n"
          ]
        }
      ]
    },
    {
      "cell_type": "markdown",
      "source": [
        "This time we are importing Dropout to make the neural network not rely on specific neurons, it sets some values randomly to 0 so the model learns from all neurons not on some neurons.\n",
        "\n",
        "First we created a method called create_cnn_model_2, we created a model object then we convolved with 32 filters and 3 by 3 kernel size and activation function relu and the input is 2D image with 1 channel greyscale.\n",
        "\n",
        "Then we performed MaxPooling to decrease dimensionality hell.\n",
        "Then we added the first dropout layer with ratio 25% of the values set to 0 randomly.\n",
        "\n",
        "Then we add another convolution layer like the previous one, and max pooling like the previous one.\n",
        "\n",
        "Then we flatten the image into a 1D vector, then we create a layer with dense neural networks 128 neuron to learn from, and then we perform a layer of droput with 50% during training, and then we perfrom the classification layer with softmax multi-classification. And then return the model.\n",
        "\n",
        "Then we create a model object, then we compile the model with adam optimizer and categorical_crossentropy loss, the accuracy metric will be used later to compare with other models."
      ],
      "metadata": {
        "id": "n0-UYpEwSxcJ"
      }
    },
    {
      "cell_type": "code",
      "source": [
        "from tensorflow.keras.layers import Dropout\n",
        "\n",
        "def create_cnn_model_2():\n",
        "    model = Sequential()\n",
        "    model.add(Conv2D(32, kernel_size=(3, 3), activation='relu', input_shape=(28, 28, 1)))\n",
        "    model.add(MaxPooling2D(pool_size=(2, 2)))\n",
        "    model.add(Dropout(0.25))\n",
        "    model.add(Conv2D(64, kernel_size=(3, 3), activation='relu'))\n",
        "    model.add(MaxPooling2D(pool_size=(2, 2)))\n",
        "    model.add(Flatten())\n",
        "    model.add(Dense(128, activation='relu'))\n",
        "    model.add(Dropout(0.5))\n",
        "    model.add(Dense(10, activation='softmax'))\n",
        "    return model\n",
        "\n",
        "cnn_model_2 = create_cnn_model_2()\n",
        "cnn_model_2.compile(optimizer='adam', loss='categorical_crossentropy', metrics=['accuracy'])\n",
        "cnn_model_2.summary()\n"
      ],
      "metadata": {
        "colab": {
          "base_uri": "https://localhost:8080/"
        },
        "id": "J7W0THF_T1Rz",
        "outputId": "13f68177-e92c-4a44-be69-6e57cd2db8e3"
      },
      "execution_count": 23,
      "outputs": [
        {
          "output_type": "stream",
          "name": "stdout",
          "text": [
            "Model: \"sequential_2\"\n",
            "_________________________________________________________________\n",
            " Layer (type)                Output Shape              Param #   \n",
            "=================================================================\n",
            " conv2d_1 (Conv2D)           (None, 26, 26, 32)        320       \n",
            "                                                                 \n",
            " max_pooling2d_1 (MaxPoolin  (None, 13, 13, 32)        0         \n",
            " g2D)                                                            \n",
            "                                                                 \n",
            " dropout (Dropout)           (None, 13, 13, 32)        0         \n",
            "                                                                 \n",
            " conv2d_2 (Conv2D)           (None, 11, 11, 64)        18496     \n",
            "                                                                 \n",
            " max_pooling2d_2 (MaxPoolin  (None, 5, 5, 64)          0         \n",
            " g2D)                                                            \n",
            "                                                                 \n",
            " flatten_2 (Flatten)         (None, 1600)              0         \n",
            "                                                                 \n",
            " dense_5 (Dense)             (None, 128)               204928    \n",
            "                                                                 \n",
            " dropout_1 (Dropout)         (None, 128)               0         \n",
            "                                                                 \n",
            " dense_6 (Dense)             (None, 10)                1290      \n",
            "                                                                 \n",
            "=================================================================\n",
            "Total params: 225034 (879.04 KB)\n",
            "Trainable params: 225034 (879.04 KB)\n",
            "Non-trainable params: 0 (0.00 Byte)\n",
            "_________________________________________________________________\n"
          ]
        }
      ]
    },
    {
      "cell_type": "markdown",
      "source": [
        "This time we are importing the SGD class. This is the Stochastic Gradient Descent optimizer, which updates the model parameters using the gradient of the loss function with respect to the parameters. This is a more simple optimizer with respect to the adam optimizer.\n",
        "\n",
        "First we made a function called create_cnn_model_3, we created a model object, then we convolved, then done max pooling, then performed covolving again, then max pooling again, this would make the model learn more features as the next layer learns from the basic features from the previous layer and so it knows more features / complex features.\n",
        "\n",
        "Then we flattened the image into 1D vector, then we made a layer from 256 neural networks with activation layer relu, then a layer to classify with softmax activation function to enable multi-class classification. Then we return the model.\n",
        "\n",
        "Then we create a model with the function then we compile the model with SGD optimizer instead of adam and the same loss function and accuracy to compare with other models."
      ],
      "metadata": {
        "id": "oT0i96f3YVGw"
      }
    },
    {
      "cell_type": "code",
      "source": [
        "from tensorflow.keras.optimizers import SGD\n",
        "\n",
        "def create_cnn_model_3():\n",
        "    model = Sequential()\n",
        "    model.add(Conv2D(32, kernel_size=(3, 3), activation='relu', input_shape=(28, 28, 1)))\n",
        "    model.add(MaxPooling2D(pool_size=(2, 2)))\n",
        "    model.add(Conv2D(64, kernel_size=(3, 3), activation='relu'))\n",
        "    model.add(MaxPooling2D(pool_size=(2, 2)))\n",
        "    model.add(Conv2D(128, kernel_size=(3, 3), activation='relu'))\n",
        "    model.add(Flatten())\n",
        "    model.add(Dense(256, activation='relu'))\n",
        "    model.add(Dense(10, activation='softmax'))\n",
        "    return model\n",
        "\n",
        "cnn_model_3 = create_cnn_model_3()\n",
        "cnn_model_3.compile(optimizer=SGD(), loss='categorical_crossentropy', metrics=['accuracy'])\n",
        "cnn_model_3.summary()\n"
      ],
      "metadata": {
        "colab": {
          "base_uri": "https://localhost:8080/"
        },
        "id": "e9i8TdLWT2j3",
        "outputId": "092f2f8c-af00-4dd3-bfc9-b248af2ccfdc"
      },
      "execution_count": 24,
      "outputs": [
        {
          "output_type": "stream",
          "name": "stdout",
          "text": [
            "Model: \"sequential_3\"\n",
            "_________________________________________________________________\n",
            " Layer (type)                Output Shape              Param #   \n",
            "=================================================================\n",
            " conv2d_3 (Conv2D)           (None, 26, 26, 32)        320       \n",
            "                                                                 \n",
            " max_pooling2d_3 (MaxPoolin  (None, 13, 13, 32)        0         \n",
            " g2D)                                                            \n",
            "                                                                 \n",
            " conv2d_4 (Conv2D)           (None, 11, 11, 64)        18496     \n",
            "                                                                 \n",
            " max_pooling2d_4 (MaxPoolin  (None, 5, 5, 64)          0         \n",
            " g2D)                                                            \n",
            "                                                                 \n",
            " conv2d_5 (Conv2D)           (None, 3, 3, 128)         73856     \n",
            "                                                                 \n",
            " flatten_3 (Flatten)         (None, 1152)              0         \n",
            "                                                                 \n",
            " dense_7 (Dense)             (None, 256)               295168    \n",
            "                                                                 \n",
            " dense_8 (Dense)             (None, 10)                2570      \n",
            "                                                                 \n",
            "=================================================================\n",
            "Total params: 390410 (1.49 MB)\n",
            "Trainable params: 390410 (1.49 MB)\n",
            "Non-trainable params: 0 (0.00 Byte)\n",
            "_________________________________________________________________\n"
          ]
        }
      ]
    },
    {
      "cell_type": "markdown",
      "source": [
        "Here we are defining a function to train all the models with train, validation and test, 10 epochs which is basically like 10 loops on the entire training dataset which makes the model train on the neuron more than once, batch_size is the number of examples to start updating weight after throughout training, going forward then backward with back propagation.\n",
        "\n",
        "Then we fit the validation part to improve the model performance, we do this for each model from the 4 models and then we return the history of this model on how it performed and trained."
      ],
      "metadata": {
        "id": "PG_k2M0SdNl6"
      }
    },
    {
      "cell_type": "code",
      "source": [
        "def train_model(model, x_train, y_train, x_val, y_val, epochs=10, batch_size=32):\n",
        "    history = model.fit(x_train, y_train, validation_data=(x_val, y_val), epochs=epochs, batch_size=batch_size)\n",
        "    return history\n",
        "\n",
        "ann_history = train_model(ann_model, x_train, y_train, x_val, y_val)\n",
        "cnn_history_1 = train_model(cnn_model_1, x_train, y_train, x_val, y_val)\n",
        "cnn_history_2 = train_model(cnn_model_2, x_train, y_train, x_val, y_val)\n",
        "cnn_history_3 = train_model(cnn_model_3, x_train, y_train, x_val, y_val)\n"
      ],
      "metadata": {
        "colab": {
          "base_uri": "https://localhost:8080/"
        },
        "id": "acBW-PuXT6b1",
        "outputId": "95506ce7-ed3d-4347-e77f-7313aaa279df"
      },
      "execution_count": 25,
      "outputs": [
        {
          "output_type": "stream",
          "name": "stdout",
          "text": [
            "Epoch 1/10\n",
            "1500/1500 [==============================] - 17s 11ms/step - loss: 0.2041 - accuracy: 0.9392 - val_loss: 0.1143 - val_accuracy: 0.9663\n",
            "Epoch 2/10\n",
            "1500/1500 [==============================] - 19s 13ms/step - loss: 0.0867 - accuracy: 0.9731 - val_loss: 0.0842 - val_accuracy: 0.9750\n",
            "Epoch 3/10\n",
            "1500/1500 [==============================] - 18s 12ms/step - loss: 0.0574 - accuracy: 0.9821 - val_loss: 0.1016 - val_accuracy: 0.9711\n",
            "Epoch 4/10\n",
            "1500/1500 [==============================] - 15s 10ms/step - loss: 0.0440 - accuracy: 0.9861 - val_loss: 0.0818 - val_accuracy: 0.9776\n",
            "Epoch 5/10\n",
            "1500/1500 [==============================] - 16s 10ms/step - loss: 0.0322 - accuracy: 0.9893 - val_loss: 0.0966 - val_accuracy: 0.9760\n",
            "Epoch 6/10\n",
            "1500/1500 [==============================] - 16s 10ms/step - loss: 0.0298 - accuracy: 0.9902 - val_loss: 0.1050 - val_accuracy: 0.9734\n",
            "Epoch 7/10\n",
            "1500/1500 [==============================] - 15s 10ms/step - loss: 0.0229 - accuracy: 0.9924 - val_loss: 0.0984 - val_accuracy: 0.9762\n",
            "Epoch 8/10\n",
            "1500/1500 [==============================] - 15s 10ms/step - loss: 0.0233 - accuracy: 0.9926 - val_loss: 0.0927 - val_accuracy: 0.9792\n",
            "Epoch 9/10\n",
            "1500/1500 [==============================] - 15s 10ms/step - loss: 0.0184 - accuracy: 0.9941 - val_loss: 0.0955 - val_accuracy: 0.9783\n",
            "Epoch 10/10\n",
            "1500/1500 [==============================] - 17s 11ms/step - loss: 0.0179 - accuracy: 0.9941 - val_loss: 0.1158 - val_accuracy: 0.9775\n",
            "Epoch 1/10\n",
            "1500/1500 [==============================] - 36s 24ms/step - loss: 0.1725 - accuracy: 0.9484 - val_loss: 0.0795 - val_accuracy: 0.9756\n",
            "Epoch 2/10\n",
            "1500/1500 [==============================] - 40s 26ms/step - loss: 0.0589 - accuracy: 0.9815 - val_loss: 0.0592 - val_accuracy: 0.9832\n",
            "Epoch 3/10\n",
            "1500/1500 [==============================] - 34s 23ms/step - loss: 0.0384 - accuracy: 0.9878 - val_loss: 0.0560 - val_accuracy: 0.9850\n",
            "Epoch 4/10\n",
            "1500/1500 [==============================] - 37s 25ms/step - loss: 0.0244 - accuracy: 0.9923 - val_loss: 0.0558 - val_accuracy: 0.9838\n",
            "Epoch 5/10\n",
            "1500/1500 [==============================] - 37s 25ms/step - loss: 0.0185 - accuracy: 0.9941 - val_loss: 0.0512 - val_accuracy: 0.9858\n",
            "Epoch 6/10\n",
            "1500/1500 [==============================] - 36s 24ms/step - loss: 0.0130 - accuracy: 0.9957 - val_loss: 0.0616 - val_accuracy: 0.9847\n",
            "Epoch 7/10\n",
            "1500/1500 [==============================] - 35s 23ms/step - loss: 0.0088 - accuracy: 0.9973 - val_loss: 0.0570 - val_accuracy: 0.9862\n",
            "Epoch 8/10\n",
            "1500/1500 [==============================] - 38s 25ms/step - loss: 0.0080 - accuracy: 0.9973 - val_loss: 0.0594 - val_accuracy: 0.9866\n",
            "Epoch 9/10\n",
            "1500/1500 [==============================] - 34s 23ms/step - loss: 0.0052 - accuracy: 0.9983 - val_loss: 0.0648 - val_accuracy: 0.9862\n",
            "Epoch 10/10\n",
            "1500/1500 [==============================] - 36s 24ms/step - loss: 0.0048 - accuracy: 0.9985 - val_loss: 0.0587 - val_accuracy: 0.9876\n",
            "Epoch 1/10\n",
            "1500/1500 [==============================] - 52s 33ms/step - loss: 0.2683 - accuracy: 0.9186 - val_loss: 0.0630 - val_accuracy: 0.9807\n",
            "Epoch 2/10\n",
            "1500/1500 [==============================] - 51s 34ms/step - loss: 0.1013 - accuracy: 0.9709 - val_loss: 0.0447 - val_accuracy: 0.9871\n",
            "Epoch 3/10\n",
            "1500/1500 [==============================] - 53s 35ms/step - loss: 0.0775 - accuracy: 0.9765 - val_loss: 0.0416 - val_accuracy: 0.9877\n",
            "Epoch 4/10\n",
            "1500/1500 [==============================] - 50s 33ms/step - loss: 0.0645 - accuracy: 0.9803 - val_loss: 0.0373 - val_accuracy: 0.9883\n",
            "Epoch 5/10\n",
            "1500/1500 [==============================] - 54s 36ms/step - loss: 0.0547 - accuracy: 0.9834 - val_loss: 0.0384 - val_accuracy: 0.9894\n",
            "Epoch 6/10\n",
            "1500/1500 [==============================] - 51s 34ms/step - loss: 0.0477 - accuracy: 0.9857 - val_loss: 0.0368 - val_accuracy: 0.9899\n",
            "Epoch 7/10\n",
            "1500/1500 [==============================] - 50s 33ms/step - loss: 0.0443 - accuracy: 0.9863 - val_loss: 0.0310 - val_accuracy: 0.9914\n",
            "Epoch 8/10\n",
            "1500/1500 [==============================] - 51s 34ms/step - loss: 0.0402 - accuracy: 0.9878 - val_loss: 0.0316 - val_accuracy: 0.9912\n",
            "Epoch 9/10\n",
            "1500/1500 [==============================] - 51s 34ms/step - loss: 0.0354 - accuracy: 0.9892 - val_loss: 0.0347 - val_accuracy: 0.9905\n",
            "Epoch 10/10\n",
            "1500/1500 [==============================] - 53s 36ms/step - loss: 0.0314 - accuracy: 0.9900 - val_loss: 0.0369 - val_accuracy: 0.9897\n",
            "Epoch 1/10\n",
            "1500/1500 [==============================] - 58s 38ms/step - loss: 0.5844 - accuracy: 0.8275 - val_loss: 0.1867 - val_accuracy: 0.9460\n",
            "Epoch 2/10\n",
            "1500/1500 [==============================] - 58s 39ms/step - loss: 0.1429 - accuracy: 0.9561 - val_loss: 0.1123 - val_accuracy: 0.9654\n",
            "Epoch 3/10\n",
            "1500/1500 [==============================] - 55s 37ms/step - loss: 0.0981 - accuracy: 0.9697 - val_loss: 0.0811 - val_accuracy: 0.9765\n",
            "Epoch 4/10\n",
            "1500/1500 [==============================] - 58s 39ms/step - loss: 0.0767 - accuracy: 0.9762 - val_loss: 0.0708 - val_accuracy: 0.9774\n",
            "Epoch 5/10\n",
            "1500/1500 [==============================] - 56s 38ms/step - loss: 0.0649 - accuracy: 0.9794 - val_loss: 0.0628 - val_accuracy: 0.9797\n",
            "Epoch 6/10\n",
            "1500/1500 [==============================] - 57s 38ms/step - loss: 0.0555 - accuracy: 0.9828 - val_loss: 0.0647 - val_accuracy: 0.9807\n",
            "Epoch 7/10\n",
            "1500/1500 [==============================] - 54s 36ms/step - loss: 0.0491 - accuracy: 0.9840 - val_loss: 0.0509 - val_accuracy: 0.9837\n",
            "Epoch 8/10\n",
            "1500/1500 [==============================] - 57s 38ms/step - loss: 0.0438 - accuracy: 0.9862 - val_loss: 0.0519 - val_accuracy: 0.9852\n",
            "Epoch 9/10\n",
            "1500/1500 [==============================] - 53s 35ms/step - loss: 0.0394 - accuracy: 0.9873 - val_loss: 0.0511 - val_accuracy: 0.9839\n",
            "Epoch 10/10\n",
            "1500/1500 [==============================] - 58s 39ms/step - loss: 0.0354 - accuracy: 0.9887 - val_loss: 0.0514 - val_accuracy: 0.9848\n"
          ]
        }
      ]
    },
    {
      "cell_type": "markdown",
      "source": [
        "This is a predict function that takes a sample from the test and runs it in the model and then gets the models prediction and returns both the index of the sample in the original dataset so we can later retreive its class and also returns the predicted class of the sample it got passed and prints it to see the results."
      ],
      "metadata": {
        "id": "44h9OOYzefSR"
      }
    },
    {
      "cell_type": "code",
      "source": [
        "import numpy as np\n",
        "\n",
        "def predict(model, x_test):\n",
        "    sample_index = np.random.randint(0, len(x_test))\n",
        "    x_sample = x_test[sample_index]\n",
        "    prediction = model.predict(np.expand_dims(x_sample, axis=0))\n",
        "    predicted_class = np.argmax(prediction)\n",
        "    return sample_index, predicted_class\n",
        "\n",
        "sample_index, predicted_class = predict(cnn_model_3, x_test)\n",
        "print(f\"Sample index: {sample_index}, Predicted class: {predicted_class}, True class: {np.argmax(y_test[sample_index])}\")\n"
      ],
      "metadata": {
        "colab": {
          "base_uri": "https://localhost:8080/"
        },
        "id": "Lz8xCB6AT7vY",
        "outputId": "2deeebac-691d-4766-d5a7-54f54a800499"
      },
      "execution_count": 30,
      "outputs": [
        {
          "output_type": "stream",
          "name": "stdout",
          "text": [
            "1/1 [==============================] - 0s 31ms/step\n",
            "Sample index: 2493, Predicted class: 9, True class: 9\n"
          ]
        }
      ]
    },
    {
      "cell_type": "markdown",
      "source": [
        "This is a function that takes a model, the test data, and test labels.\n",
        "it calculates loss and accuracy while showing the output and printing it.\n",
        "\n",
        "After we pass each model to this function to test how it works, we print all the accuracies"
      ],
      "metadata": {
        "id": "TXlh4OtVoHWC"
      }
    },
    {
      "cell_type": "code",
      "source": [
        "def evaluate_model(model, x_test, y_test):\n",
        "    loss, accuracy = model.evaluate(x_test, y_test, verbose=1)\n",
        "    return accuracy\n",
        "\n",
        "ann_accuracy = evaluate_model(ann_model, x_test, y_test)\n",
        "cnn_accuracy_1 = evaluate_model(cnn_model_1, x_test, y_test)\n",
        "cnn_accuracy_2 = evaluate_model(cnn_model_2, x_test, y_test)\n",
        "cnn_accuracy_3 = evaluate_model(cnn_model_3, x_test, y_test)\n",
        "\n",
        "print(f\"ANN Model Accuracy: {ann_accuracy}\")\n",
        "print(f\"CNN Model 1 Accuracy: {cnn_accuracy_1}\")\n",
        "print(f\"CNN Model 2 Accuracy: {cnn_accuracy_2}\")\n",
        "print(f\"CNN Model 3 Accuracy: {cnn_accuracy_3}\")\n"
      ],
      "metadata": {
        "colab": {
          "base_uri": "https://localhost:8080/"
        },
        "id": "C_UeRr10qwgM",
        "outputId": "308ebdfc-c224-40b2-8d20-69c9ca640820"
      },
      "execution_count": 27,
      "outputs": [
        {
          "output_type": "stream",
          "name": "stdout",
          "text": [
            "313/313 [==============================] - 2s 5ms/step - loss: 0.1112 - accuracy: 0.9770\n",
            "313/313 [==============================] - 2s 6ms/step - loss: 0.0601 - accuracy: 0.9869\n",
            "313/313 [==============================] - 3s 9ms/step - loss: 0.0288 - accuracy: 0.9921\n",
            "313/313 [==============================] - 5s 15ms/step - loss: 0.0402 - accuracy: 0.9867\n",
            "ANN Model Accuracy: 0.9769999980926514\n",
            "CNN Model 1 Accuracy: 0.9868999719619751\n",
            "CNN Model 2 Accuracy: 0.9921000003814697\n",
            "CNN Model 3 Accuracy: 0.9866999983787537\n"
          ]
        }
      ]
    },
    {
      "cell_type": "markdown",
      "source": [
        "Then we are saving the accuracies of the model in a dictionary and we then get the model with most accuracy through max function that searches for the model with the most accuracy and returns its key, then we print the best accuracy with indexing through the dictionary with the best model name."
      ],
      "metadata": {
        "id": "4gIWpfK2qJRZ"
      }
    },
    {
      "cell_type": "code",
      "source": [
        "accuracies = {\n",
        "    \"ANN Model\": ann_accuracy,\n",
        "    \"CNN Model 1\": cnn_accuracy_1,\n",
        "    \"CNN Model 2\": cnn_accuracy_2,\n",
        "    \"CNN Model 3\": cnn_accuracy_3\n",
        "}\n",
        "\n",
        "best_model_name = max(accuracies, key=accuracies.get)\n",
        "best_model_accuracy = accuracies[best_model_name]\n",
        "\n",
        "print(f\"The best model is {best_model_name} with an accuracy of {best_model_accuracy}\")\n"
      ],
      "metadata": {
        "colab": {
          "base_uri": "https://localhost:8080/"
        },
        "id": "TTwiDMigq5yT",
        "outputId": "ced39e5d-b663-441f-a445-c2470a65043c"
      },
      "execution_count": 32,
      "outputs": [
        {
          "output_type": "stream",
          "name": "stdout",
          "text": [
            "The best model is CNN Model 2 with an accuracy of 0.9921000003814697\n"
          ]
        }
      ]
    },
    {
      "cell_type": "markdown",
      "source": [
        "Then we show a plot / graph of the models accuracy and performance throught traning the model."
      ],
      "metadata": {
        "id": "ypV2EQE2qccG"
      }
    },
    {
      "cell_type": "code",
      "source": [
        "def plot_history(histories, title):\n",
        "    import matplotlib.pyplot as plt\n",
        "\n",
        "    plt.figure(figsize=(14, 7))\n",
        "    for name, history in histories:\n",
        "        plt.plot(history.history['val_accuracy'], label=name)\n",
        "    plt.title(title)\n",
        "    plt.xlabel('Epochs')\n",
        "    plt.ylabel('Validation Accuracy')\n",
        "    plt.legend()\n",
        "    plt.show()\n",
        "\n",
        "histories = [\n",
        "    ('ANN', ann_history),\n",
        "    ('CNN 1', cnn_history_1),\n",
        "    ('CNN 2', cnn_history_2),\n",
        "    ('CNN 3', cnn_history_3)\n",
        "]\n",
        "\n",
        "plot_history(histories, 'Validation Accuracy Comparison')\n"
      ],
      "metadata": {
        "colab": {
          "base_uri": "https://localhost:8080/",
          "height": 641
        },
        "id": "n_RT6RhjT9TK",
        "outputId": "075a151d-151a-42a4-bcb1-2e4d8e700985"
      },
      "execution_count": 29,
      "outputs": [
        {
          "output_type": "display_data",
          "data": {
            "text/plain": [
              "<Figure size 1400x700 with 1 Axes>"
            ],
            "image/png": "[encoded data removed]"
          },
          "metadata": {}
        }
      ]
    }
  ]
}